{
  "nbformat": 4,
  "nbformat_minor": 0,
  "metadata": {
    "colab": {
      "provenance": [],
      "authorship_tag": "ABX9TyP4xaEj5DDVeUPqifKK33T2",
      "include_colab_link": true
    },
    "kernelspec": {
      "name": "python3",
      "display_name": "Python 3"
    },
    "language_info": {
      "name": "python"
    }
  },
  "cells": [
    {
      "cell_type": "markdown",
      "metadata": {
        "id": "view-in-github",
        "colab_type": "text"
      },
      "source": [
        "<a href=\"https://colab.research.google.com/github/umak1106/Sumoylation/blob/main/Sumonet3.ipynb\" target=\"_parent\"><img src=\"https://colab.research.google.com/assets/colab-badge.svg\" alt=\"Open In Colab\"/></a>"
      ]
    },
    {
      "cell_type": "code",
      "execution_count": 1,
      "metadata": {
        "colab": {
          "base_uri": "https://localhost:8080/"
        },
        "id": "RGfMm2KPeFan",
        "outputId": "f373c641-f1ae-4cc8-fabc-55a00f7f02b5"
      },
      "outputs": [
        {
          "output_type": "stream",
          "name": "stdout",
          "text": [
            "Requirement already satisfied: sumonet in /usr/local/lib/python3.10/dist-packages (0.1.5)\n",
            "Requirement already satisfied: numpy in /usr/local/lib/python3.10/dist-packages (from sumonet) (1.23.5)\n",
            "Requirement already satisfied: scikit-learn in /usr/local/lib/python3.10/dist-packages (from sumonet) (1.2.2)\n",
            "Requirement already satisfied: joblib in /usr/local/lib/python3.10/dist-packages (from sumonet) (1.3.2)\n",
            "Requirement already satisfied: pandas in /usr/local/lib/python3.10/dist-packages (from sumonet) (1.5.3)\n",
            "Requirement already satisfied: epitopepredict in /usr/local/lib/python3.10/dist-packages (from sumonet) (0.5.0)\n",
            "Requirement already satisfied: tensorflow in /usr/local/lib/python3.10/dist-packages (from sumonet) (2.13.0)\n",
            "Requirement already satisfied: keras in /usr/local/lib/python3.10/dist-packages (from sumonet) (2.13.1)\n",
            "Requirement already satisfied: requests in /usr/local/lib/python3.10/dist-packages (from sumonet) (2.31.0)\n",
            "Requirement already satisfied: biopython in /usr/local/lib/python3.10/dist-packages (from sumonet) (1.81)\n",
            "Requirement already satisfied: loguru in /usr/local/lib/python3.10/dist-packages (from sumonet) (0.7.2)\n",
            "Requirement already satisfied: future in /usr/local/lib/python3.10/dist-packages (from epitopepredict->sumonet) (0.18.3)\n",
            "Requirement already satisfied: python-dateutil>=2.8.1 in /usr/local/lib/python3.10/dist-packages (from pandas->sumonet) (2.8.2)\n",
            "Requirement already satisfied: pytz>=2020.1 in /usr/local/lib/python3.10/dist-packages (from pandas->sumonet) (2023.3.post1)\n",
            "Requirement already satisfied: scipy>=1.3.2 in /usr/local/lib/python3.10/dist-packages (from scikit-learn->sumonet) (1.11.3)\n",
            "Requirement already satisfied: threadpoolctl>=2.0.0 in /usr/local/lib/python3.10/dist-packages (from scikit-learn->sumonet) (3.2.0)\n",
            "Requirement already satisfied: charset-normalizer<4,>=2 in /usr/local/lib/python3.10/dist-packages (from requests->sumonet) (3.2.0)\n",
            "Requirement already satisfied: idna<4,>=2.5 in /usr/local/lib/python3.10/dist-packages (from requests->sumonet) (3.4)\n",
            "Requirement already satisfied: urllib3<3,>=1.21.1 in /usr/local/lib/python3.10/dist-packages (from requests->sumonet) (2.0.5)\n",
            "Requirement already satisfied: certifi>=2017.4.17 in /usr/local/lib/python3.10/dist-packages (from requests->sumonet) (2023.7.22)\n",
            "Requirement already satisfied: absl-py>=1.0.0 in /usr/local/lib/python3.10/dist-packages (from tensorflow->sumonet) (1.4.0)\n",
            "Requirement already satisfied: astunparse>=1.6.0 in /usr/local/lib/python3.10/dist-packages (from tensorflow->sumonet) (1.6.3)\n",
            "Requirement already satisfied: flatbuffers>=23.1.21 in /usr/local/lib/python3.10/dist-packages (from tensorflow->sumonet) (23.5.26)\n",
            "Requirement already satisfied: gast<=0.4.0,>=0.2.1 in /usr/local/lib/python3.10/dist-packages (from tensorflow->sumonet) (0.4.0)\n",
            "Requirement already satisfied: google-pasta>=0.1.1 in /usr/local/lib/python3.10/dist-packages (from tensorflow->sumonet) (0.2.0)\n",
            "Requirement already satisfied: grpcio<2.0,>=1.24.3 in /usr/local/lib/python3.10/dist-packages (from tensorflow->sumonet) (1.58.0)\n",
            "Requirement already satisfied: h5py>=2.9.0 in /usr/local/lib/python3.10/dist-packages (from tensorflow->sumonet) (3.9.0)\n",
            "Requirement already satisfied: libclang>=13.0.0 in /usr/local/lib/python3.10/dist-packages (from tensorflow->sumonet) (16.0.6)\n",
            "Requirement already satisfied: opt-einsum>=2.3.2 in /usr/local/lib/python3.10/dist-packages (from tensorflow->sumonet) (3.3.0)\n",
            "Requirement already satisfied: packaging in /usr/local/lib/python3.10/dist-packages (from tensorflow->sumonet) (23.1)\n",
            "Requirement already satisfied: protobuf!=4.21.0,!=4.21.1,!=4.21.2,!=4.21.3,!=4.21.4,!=4.21.5,<5.0.0dev,>=3.20.3 in /usr/local/lib/python3.10/dist-packages (from tensorflow->sumonet) (3.20.3)\n",
            "Requirement already satisfied: setuptools in /usr/local/lib/python3.10/dist-packages (from tensorflow->sumonet) (67.7.2)\n",
            "Requirement already satisfied: six>=1.12.0 in /usr/local/lib/python3.10/dist-packages (from tensorflow->sumonet) (1.16.0)\n",
            "Requirement already satisfied: tensorboard<2.14,>=2.13 in /usr/local/lib/python3.10/dist-packages (from tensorflow->sumonet) (2.13.0)\n",
            "Requirement already satisfied: tensorflow-estimator<2.14,>=2.13.0 in /usr/local/lib/python3.10/dist-packages (from tensorflow->sumonet) (2.13.0)\n",
            "Requirement already satisfied: termcolor>=1.1.0 in /usr/local/lib/python3.10/dist-packages (from tensorflow->sumonet) (2.3.0)\n",
            "Requirement already satisfied: typing-extensions<4.6.0,>=3.6.6 in /usr/local/lib/python3.10/dist-packages (from tensorflow->sumonet) (4.5.0)\n",
            "Requirement already satisfied: wrapt>=1.11.0 in /usr/local/lib/python3.10/dist-packages (from tensorflow->sumonet) (1.15.0)\n",
            "Requirement already satisfied: tensorflow-io-gcs-filesystem>=0.23.1 in /usr/local/lib/python3.10/dist-packages (from tensorflow->sumonet) (0.34.0)\n",
            "Requirement already satisfied: wheel<1.0,>=0.23.0 in /usr/local/lib/python3.10/dist-packages (from astunparse>=1.6.0->tensorflow->sumonet) (0.41.2)\n",
            "Requirement already satisfied: google-auth<3,>=1.6.3 in /usr/local/lib/python3.10/dist-packages (from tensorboard<2.14,>=2.13->tensorflow->sumonet) (2.17.3)\n",
            "Requirement already satisfied: google-auth-oauthlib<1.1,>=0.5 in /usr/local/lib/python3.10/dist-packages (from tensorboard<2.14,>=2.13->tensorflow->sumonet) (1.0.0)\n",
            "Requirement already satisfied: markdown>=2.6.8 in /usr/local/lib/python3.10/dist-packages (from tensorboard<2.14,>=2.13->tensorflow->sumonet) (3.4.4)\n",
            "Requirement already satisfied: tensorboard-data-server<0.8.0,>=0.7.0 in /usr/local/lib/python3.10/dist-packages (from tensorboard<2.14,>=2.13->tensorflow->sumonet) (0.7.1)\n",
            "Requirement already satisfied: werkzeug>=1.0.1 in /usr/local/lib/python3.10/dist-packages (from tensorboard<2.14,>=2.13->tensorflow->sumonet) (2.3.7)\n",
            "Requirement already satisfied: cachetools<6.0,>=2.0.0 in /usr/local/lib/python3.10/dist-packages (from google-auth<3,>=1.6.3->tensorboard<2.14,>=2.13->tensorflow->sumonet) (5.3.1)\n",
            "Requirement already satisfied: pyasn1-modules>=0.2.1 in /usr/local/lib/python3.10/dist-packages (from google-auth<3,>=1.6.3->tensorboard<2.14,>=2.13->tensorflow->sumonet) (0.3.0)\n",
            "Requirement already satisfied: rsa<5,>=3.1.4 in /usr/local/lib/python3.10/dist-packages (from google-auth<3,>=1.6.3->tensorboard<2.14,>=2.13->tensorflow->sumonet) (4.9)\n",
            "Requirement already satisfied: requests-oauthlib>=0.7.0 in /usr/local/lib/python3.10/dist-packages (from google-auth-oauthlib<1.1,>=0.5->tensorboard<2.14,>=2.13->tensorflow->sumonet) (1.3.1)\n",
            "Requirement already satisfied: MarkupSafe>=2.1.1 in /usr/local/lib/python3.10/dist-packages (from werkzeug>=1.0.1->tensorboard<2.14,>=2.13->tensorflow->sumonet) (2.1.3)\n",
            "Requirement already satisfied: pyasn1<0.6.0,>=0.4.6 in /usr/local/lib/python3.10/dist-packages (from pyasn1-modules>=0.2.1->google-auth<3,>=1.6.3->tensorboard<2.14,>=2.13->tensorflow->sumonet) (0.5.0)\n",
            "Requirement already satisfied: oauthlib>=3.0.0 in /usr/local/lib/python3.10/dist-packages (from requests-oauthlib>=0.7.0->google-auth-oauthlib<1.1,>=0.5->tensorboard<2.14,>=2.13->tensorflow->sumonet) (3.2.2)\n"
          ]
        }
      ],
      "source": [
        "!pip install sumonet"
      ]
    },
    {
      "cell_type": "code",
      "source": [
        "from sumonet.utils.data_pipe import Data\n",
        "data = Data()\n",
        "X_train, y_train, X_test, y_test = data.load_sumonet_experiment_data()"
      ],
      "metadata": {
        "id": "JxGRS8nrhU6F"
      },
      "execution_count": 2,
      "outputs": []
    },
    {
      "cell_type": "code",
      "source": [
        "from sumonet.utils.encodings import Encoding\n",
        "encoder = Encoding(encoderType='one-hot')\n",
        "X_train_encoded = encoder.encode_data(X_train)"
      ],
      "metadata": {
        "id": "4fephVJehpHi"
      },
      "execution_count": 3,
      "outputs": []
    },
    {
      "cell_type": "code",
      "source": [
        "import numpy as np\n",
        "y_train = np.asarray(y_train)\n",
        "y_train = (y_train[:,None] == np.arange(2)).astype(int)"
      ],
      "metadata": {
        "id": "64V9wGsUikLO"
      },
      "execution_count": 4,
      "outputs": []
    },
    {
      "cell_type": "code",
      "source": [
        "from sumonet.model.architecture import SUMOnet\n",
        "model = SUMOnet(input_shape = X_train_encoded.shape[1:] )\n",
        "model.compile(loss='categorical_crossentropy', optimizer='Adam', metrics=['accuracy'])\n",
        "model.fit(X_train_encoded,y_train,epochs=3)"
      ],
      "metadata": {
        "colab": {
          "base_uri": "https://localhost:8080/"
        },
        "id": "r0QWoCuXiw0F",
        "outputId": "403e9c79-730a-4016-8d77-7a274adbd7f5"
      },
      "execution_count": 5,
      "outputs": [
        {
          "output_type": "stream",
          "name": "stdout",
          "text": [
            "Epoch 1/3\n",
            "598/598 [==============================] - 40s 46ms/step - loss: 0.5048 - accuracy: 0.7725\n",
            "Epoch 2/3\n",
            "598/598 [==============================] - 15s 25ms/step - loss: 0.4597 - accuracy: 0.7993\n",
            "Epoch 3/3\n",
            "598/598 [==============================] - 15s 25ms/step - loss: 0.4446 - accuracy: 0.8073\n"
          ]
        },
        {
          "output_type": "execute_result",
          "data": {
            "text/plain": [
              "<keras.src.callbacks.History at 0x7af3ba76cd30>"
            ]
          },
          "metadata": {},
          "execution_count": 5
        }
      ]
    },
    {
      "cell_type": "code",
      "source": [
        "from sumonet.model.architecture import SUMOnet\n",
        "SUMOnet3_model = SUMOnet()\n",
        "SUMOnet3_model.load_weights()\n"
      ],
      "metadata": {
        "colab": {
          "base_uri": "https://localhost:8080/"
        },
        "id": "STOfYu9b9TZI",
        "outputId": "bc778812-d990-49fa-f50d-774043816b13"
      },
      "execution_count": 6,
      "outputs": [
        {
          "output_type": "stream",
          "name": "stdout",
          "text": [
            "This model was trained on entire (Train + Test) data! If you want to use model that was trained on only Train samples please use load_weights(model_state='on_train_data')\n"
          ]
        }
      ]
    },
    {
      "cell_type": "code",
      "source": [
        "encoder = Encoding(encoderType='blosum62')\n",
        "X_test_encoded = encoder.encode_data(X_test)\n",
        "y_preds = SUMOnet3_model.predict(X_test_encoded)"
      ],
      "metadata": {
        "colab": {
          "base_uri": "https://localhost:8080/"
        },
        "id": "uO5AYL9q9Ya5",
        "outputId": "620a54e1-a66d-4f96-f882-d544ca626943"
      },
      "execution_count": 7,
      "outputs": [
        {
          "output_type": "stream",
          "name": "stderr",
          "text": [
            "/usr/local/lib/python3.10/dist-packages/sklearn/base.py:318: UserWarning: Trying to unpickle estimator MinMaxScaler from version 0.24.2 when using version 1.2.2. This might lead to breaking code or invalid results. Use at your own risk. For more info please refer to:\n",
            "https://scikit-learn.org/stable/model_persistence.html#security-maintainability-limitations\n",
            "  warnings.warn(\n"
          ]
        },
        {
          "output_type": "stream",
          "name": "stdout",
          "text": [
            "67/67 [==============================] - 1s 6ms/step\n"
          ]
        }
      ]
    },
    {
      "cell_type": "code",
      "source": [
        "\n",
        "from sklearn import metrics\n",
        "\n",
        "def f1_score(y_true, y_probs):\n",
        "\n",
        "    return metrics.f1_score(y_true, y_probs.argmax(-1))\n",
        "\n",
        "def mcc(y_true, y_probs):\n",
        "\n",
        "    return metrics.matthews_corrcoef(y_true, y_probs.argmax(-1))\n",
        "\n",
        "def rocAuc_score(y_true, y_probs):\n",
        "\n",
        "    lr_fpr, lr_tpr, _ = metrics.roc_curve(y_true, y_probs[:,1])\n",
        "\n",
        "    return metrics.auc(lr_fpr, lr_tpr)\n",
        "\n",
        "def aupr_score(y_true, y_probs):\n",
        "\n",
        "    precision, recall, _ = metrics.precision_recall_curve(y_true, y_probs[:,1])\n",
        "\n",
        "    return metrics.auc(recall, precision)\n",
        "\n",
        "def evaluate(y_true, y_probs, metrics_):\n",
        "\n",
        "\n",
        "\n",
        "    metricsDict = {'f1':f1_score, 'mcc':mcc, 'roc':rocAuc_score, 'aupr':aupr_score}\n",
        "    outputEval = {}\n",
        "\n",
        "    if type(metrics_) == str:\n",
        "\n",
        "        if metrics_.lower() not in metricsDict:\n",
        "\n",
        "                raise ValueError(f\"{metrics_.lower()} is not supported! f1, mcc, roc and aupr are supported evaluation metrics\")\n",
        "\n",
        "        else:\n",
        "\n",
        "            outputEval[metrics_.lower()]  = metricsDict[metrics_.lower()](y_true, y_probs)\n",
        "\n",
        "        return outputEval\n",
        "\n",
        "    elif type(metrics_) == list:\n",
        "\n",
        "        metricNames = [x.lower() for x in metrics_]\n",
        "\n",
        "        for metricName in metricNames:\n",
        "\n",
        "            if metricName not in metricsDict:\n",
        "\n",
        "                raise ValueError(f\"{metricName} is not supported! f1, mcc, roc and aupr are supported evaluation metrics\")\n",
        "\n",
        "            else:\n",
        "\n",
        "                outputEval[metricName]  = metricsDict[metricName](y_true, y_probs)\n",
        "\n",
        "        return outputEval\n",
        "\n",
        "    else:\n",
        "\n",
        "        raise TypeError(\"metrics must be a string or list of strings\")\n"
      ],
      "metadata": {
        "id": "IWGy7_RY_Rk0"
      },
      "execution_count": 8,
      "outputs": []
    },
    {
      "cell_type": "code",
      "source": [
        "\n",
        "y_test = np.asarray(y_test)\n",
        "y_test = (y_test[:,None] == np.arange(2)).astype(int)\n",
        "y_test\n",
        "f1_score = evaluate(y_test.argmax(-1),y_preds,'f1')\n"
      ],
      "metadata": {
        "id": "oGMg-Bnz-Zgv"
      },
      "execution_count": 9,
      "outputs": []
    },
    {
      "cell_type": "code",
      "source": [
        "mcc = evaluate(y_test.argmax(-1),y_preds,'mcc')\n",
        "roc = evaluate(y_test.argmax(-1),y_preds,'roc')\n",
        "aupr = evaluate(y_test.argmax(-1),y_preds,'aupr')"
      ],
      "metadata": {
        "id": "Ov0_Koo0MPpW"
      },
      "execution_count": 10,
      "outputs": []
    },
    {
      "cell_type": "code",
      "source": [
        "print(f1_score)\n",
        "print(mcc)\n",
        "print(roc)\n",
        "print(aupr)"
      ],
      "metadata": {
        "colab": {
          "base_uri": "https://localhost:8080/"
        },
        "id": "gUVpkhJYN6W0",
        "outputId": "7e7d27f4-1cf4-4bc9-9aa8-31abf2e6aa78"
      },
      "execution_count": 13,
      "outputs": [
        {
          "output_type": "stream",
          "name": "stdout",
          "text": [
            "{'f1': 0.7033707865168539}\n",
            "{'mcc': 0.6417148350883615}\n",
            "{'roc': 0.9109111989573554}\n",
            "{'aupr': 0.824123537044848}\n"
          ]
        }
      ]
    },
    {
      "cell_type": "code",
      "source": [
        "import matplotlib.pyplot as plt\n",
        "\n",
        "\n",
        "evaluation_results = {\n",
        "    'f1': 0.7033707865168539,\n",
        "    'mcc': 0.6417148350883615,\n",
        "    'roc': 0.9109111989573554,\n",
        "    'aupr': 0.824123537044848\n",
        "}\n",
        "\n",
        "\n",
        "metric_names = list(evaluation_results.keys())\n",
        "metric_values = list(evaluation_results.values())\n",
        "\n",
        "\n",
        "plt.figure(figsize=(10, 6))\n",
        "plt.bar(metric_names, metric_values, color=['blue', 'green', 'red', 'purple'])  # Customize colors as needed\n",
        "plt.xlabel('Metrics')\n",
        "plt.ylabel('Values')\n",
        "plt.title('Evaluation Metrics')\n",
        "plt.ylim(0, 1)\n",
        "plt.show()\n"
      ],
      "metadata": {
        "colab": {
          "base_uri": "https://localhost:8080/",
          "height": 564
        },
        "id": "lWZQCrUSQGF-",
        "outputId": "dc9773d4-0b1e-4017-8abd-7fe33460d3d1"
      },
      "execution_count": 14,
      "outputs": [
        {
          "output_type": "display_data",
          "data": {
            "text/plain": [
              "<Figure size 1000x600 with 1 Axes>"
            ],
            "image/png": "[encoded data removed]"
          },
          "metadata": {}
        }
      ]
    }
  ]
}
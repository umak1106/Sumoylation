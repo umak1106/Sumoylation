{
  "nbformat": 4,
  "nbformat_minor": 0,
  "metadata": {
    "colab": {
      "provenance": []
    },
    "kernelspec": {
      "name": "python3",
      "display_name": "Python 3"
    },
    "language_info": {
      "name": "python"
    },
    "accelerator": "TPU"
  },
  "cells": [
    {
      "cell_type": "code",
      "execution_count": 1,
      "metadata": {
        "colab": {
          "base_uri": "https://localhost:8080/"
        },
        "id": "pjIAnzxsiPaG",
        "outputId": "2d2ab4bc-cc25-4e27-fb68-bfab923b74a4"
      },
      "outputs": [
        {
          "output_type": "stream",
          "name": "stdout",
          "text": [
            "Collecting sumonet\n",
            "  Downloading sumonet-0.1.5.tar.gz (787 kB)\n",
            "\u001b[2K     \u001b[90m━━━━━━━━━━━━━━━━━━━━━━━━━━━━━━━━━━━━━━━━\u001b[0m \u001b[32m787.9/787.9 kB\u001b[0m \u001b[31m6.0 MB/s\u001b[0m eta \u001b[36m0:00:00\u001b[0m\n",
            "\u001b[?25h  Preparing metadata (setup.py) ... \u001b[?25l\u001b[?25hdone\n",
            "Requirement already satisfied: numpy in /usr/local/lib/python3.10/dist-packages (from sumonet) (1.23.5)\n",
            "Requirement already satisfied: scikit-learn in /usr/local/lib/python3.10/dist-packages (from sumonet) (1.2.2)\n",
            "Requirement already satisfied: joblib in /usr/local/lib/python3.10/dist-packages (from sumonet) (1.3.2)\n",
            "Requirement already satisfied: pandas in /usr/local/lib/python3.10/dist-packages (from sumonet) (1.5.3)\n",
            "Collecting epitopepredict (from sumonet)\n",
            "  Downloading epitopepredict-0.5.0.tar.gz (11.0 MB)\n",
            "\u001b[2K     \u001b[90m━━━━━━━━━━━━━━━━━━━━━━━━━━━━━━━━━━━━━━━━\u001b[0m \u001b[32m11.0/11.0 MB\u001b[0m \u001b[31m7.4 MB/s\u001b[0m eta \u001b[36m0:00:00\u001b[0m\n",
            "\u001b[?25h  Preparing metadata (setup.py) ... \u001b[?25l\u001b[?25hdone\n",
            "Requirement already satisfied: tensorflow in /usr/local/lib/python3.10/dist-packages (from sumonet) (2.14.0)\n",
            "Requirement already satisfied: keras in /usr/local/lib/python3.10/dist-packages (from sumonet) (2.14.0)\n",
            "Requirement already satisfied: requests in /usr/local/lib/python3.10/dist-packages (from sumonet) (2.31.0)\n",
            "Collecting biopython (from sumonet)\n",
            "  Downloading biopython-1.81-cp310-cp310-manylinux_2_17_x86_64.manylinux2014_x86_64.whl (3.1 MB)\n",
            "\u001b[2K     \u001b[90m━━━━━━━━━━━━━━━━━━━━━━━━━━━━━━━━━━━━━━━━\u001b[0m \u001b[32m3.1/3.1 MB\u001b[0m \u001b[31m61.3 MB/s\u001b[0m eta \u001b[36m0:00:00\u001b[0m\n",
            "\u001b[?25hCollecting loguru (from sumonet)\n",
            "  Downloading loguru-0.7.2-py3-none-any.whl (62 kB)\n",
            "\u001b[2K     \u001b[90m━━━━━━━━━━━━━━━━━━━━━━━━━━━━━━━━━━━━━━━━\u001b[0m \u001b[32m62.5/62.5 kB\u001b[0m \u001b[31m7.9 MB/s\u001b[0m eta \u001b[36m0:00:00\u001b[0m\n",
            "\u001b[?25hRequirement already satisfied: future in /usr/local/lib/python3.10/dist-packages (from epitopepredict->sumonet) (0.18.3)\n",
            "Requirement already satisfied: python-dateutil>=2.8.1 in /usr/local/lib/python3.10/dist-packages (from pandas->sumonet) (2.8.2)\n",
            "Requirement already satisfied: pytz>=2020.1 in /usr/local/lib/python3.10/dist-packages (from pandas->sumonet) (2023.3.post1)\n",
            "Requirement already satisfied: scipy>=1.3.2 in /usr/local/lib/python3.10/dist-packages (from scikit-learn->sumonet) (1.11.4)\n",
            "Requirement already satisfied: threadpoolctl>=2.0.0 in /usr/local/lib/python3.10/dist-packages (from scikit-learn->sumonet) (3.2.0)\n",
            "Requirement already satisfied: charset-normalizer<4,>=2 in /usr/local/lib/python3.10/dist-packages (from requests->sumonet) (3.3.2)\n",
            "Requirement already satisfied: idna<4,>=2.5 in /usr/local/lib/python3.10/dist-packages (from requests->sumonet) (3.6)\n",
            "Requirement already satisfied: urllib3<3,>=1.21.1 in /usr/local/lib/python3.10/dist-packages (from requests->sumonet) (2.0.7)\n",
            "Requirement already satisfied: certifi>=2017.4.17 in /usr/local/lib/python3.10/dist-packages (from requests->sumonet) (2023.11.17)\n",
            "Requirement already satisfied: absl-py>=1.0.0 in /usr/local/lib/python3.10/dist-packages (from tensorflow->sumonet) (1.4.0)\n",
            "Requirement already satisfied: astunparse>=1.6.0 in /usr/local/lib/python3.10/dist-packages (from tensorflow->sumonet) (1.6.3)\n",
            "Requirement already satisfied: flatbuffers>=23.5.26 in /usr/local/lib/python3.10/dist-packages (from tensorflow->sumonet) (23.5.26)\n",
            "Requirement already satisfied: gast!=0.5.0,!=0.5.1,!=0.5.2,>=0.2.1 in /usr/local/lib/python3.10/dist-packages (from tensorflow->sumonet) (0.5.4)\n",
            "Requirement already satisfied: google-pasta>=0.1.1 in /usr/local/lib/python3.10/dist-packages (from tensorflow->sumonet) (0.2.0)\n",
            "Requirement already satisfied: h5py>=2.9.0 in /usr/local/lib/python3.10/dist-packages (from tensorflow->sumonet) (3.9.0)\n",
            "Requirement already satisfied: libclang>=13.0.0 in /usr/local/lib/python3.10/dist-packages (from tensorflow->sumonet) (16.0.6)\n",
            "Requirement already satisfied: ml-dtypes==0.2.0 in /usr/local/lib/python3.10/dist-packages (from tensorflow->sumonet) (0.2.0)\n",
            "Requirement already satisfied: opt-einsum>=2.3.2 in /usr/local/lib/python3.10/dist-packages (from tensorflow->sumonet) (3.3.0)\n",
            "Requirement already satisfied: packaging in /usr/local/lib/python3.10/dist-packages (from tensorflow->sumonet) (23.2)\n",
            "Requirement already satisfied: protobuf!=4.21.0,!=4.21.1,!=4.21.2,!=4.21.3,!=4.21.4,!=4.21.5,<5.0.0dev,>=3.20.3 in /usr/local/lib/python3.10/dist-packages (from tensorflow->sumonet) (3.20.3)\n",
            "Requirement already satisfied: setuptools in /usr/local/lib/python3.10/dist-packages (from tensorflow->sumonet) (67.7.2)\n",
            "Requirement already satisfied: six>=1.12.0 in /usr/local/lib/python3.10/dist-packages (from tensorflow->sumonet) (1.16.0)\n",
            "Requirement already satisfied: termcolor>=1.1.0 in /usr/local/lib/python3.10/dist-packages (from tensorflow->sumonet) (2.4.0)\n",
            "Requirement already satisfied: typing-extensions>=3.6.6 in /usr/local/lib/python3.10/dist-packages (from tensorflow->sumonet) (4.5.0)\n",
            "Requirement already satisfied: wrapt<1.15,>=1.11.0 in /usr/local/lib/python3.10/dist-packages (from tensorflow->sumonet) (1.14.1)\n",
            "Requirement already satisfied: tensorflow-io-gcs-filesystem>=0.23.1 in /usr/local/lib/python3.10/dist-packages (from tensorflow->sumonet) (0.34.0)\n",
            "Requirement already satisfied: grpcio<2.0,>=1.24.3 in /usr/local/lib/python3.10/dist-packages (from tensorflow->sumonet) (1.59.3)\n",
            "Requirement already satisfied: tensorboard<2.15,>=2.14 in /usr/local/lib/python3.10/dist-packages (from tensorflow->sumonet) (2.14.1)\n",
            "Requirement already satisfied: tensorflow-estimator<2.15,>=2.14.0 in /usr/local/lib/python3.10/dist-packages (from tensorflow->sumonet) (2.14.0)\n",
            "Requirement already satisfied: wheel<1.0,>=0.23.0 in /usr/local/lib/python3.10/dist-packages (from astunparse>=1.6.0->tensorflow->sumonet) (0.42.0)\n",
            "Requirement already satisfied: google-auth<3,>=1.6.3 in /usr/local/lib/python3.10/dist-packages (from tensorboard<2.15,>=2.14->tensorflow->sumonet) (2.17.3)\n",
            "Requirement already satisfied: google-auth-oauthlib<1.1,>=0.5 in /usr/local/lib/python3.10/dist-packages (from tensorboard<2.15,>=2.14->tensorflow->sumonet) (1.0.0)\n",
            "Requirement already satisfied: markdown>=2.6.8 in /usr/local/lib/python3.10/dist-packages (from tensorboard<2.15,>=2.14->tensorflow->sumonet) (3.5.1)\n",
            "Requirement already satisfied: tensorboard-data-server<0.8.0,>=0.7.0 in /usr/local/lib/python3.10/dist-packages (from tensorboard<2.15,>=2.14->tensorflow->sumonet) (0.7.2)\n",
            "Requirement already satisfied: werkzeug>=1.0.1 in /usr/local/lib/python3.10/dist-packages (from tensorboard<2.15,>=2.14->tensorflow->sumonet) (3.0.1)\n",
            "Requirement already satisfied: cachetools<6.0,>=2.0.0 in /usr/local/lib/python3.10/dist-packages (from google-auth<3,>=1.6.3->tensorboard<2.15,>=2.14->tensorflow->sumonet) (5.3.2)\n",
            "Requirement already satisfied: pyasn1-modules>=0.2.1 in /usr/local/lib/python3.10/dist-packages (from google-auth<3,>=1.6.3->tensorboard<2.15,>=2.14->tensorflow->sumonet) (0.3.0)\n",
            "Requirement already satisfied: rsa<5,>=3.1.4 in /usr/local/lib/python3.10/dist-packages (from google-auth<3,>=1.6.3->tensorboard<2.15,>=2.14->tensorflow->sumonet) (4.9)\n",
            "Requirement already satisfied: requests-oauthlib>=0.7.0 in /usr/local/lib/python3.10/dist-packages (from google-auth-oauthlib<1.1,>=0.5->tensorboard<2.15,>=2.14->tensorflow->sumonet) (1.3.1)\n",
            "Requirement already satisfied: MarkupSafe>=2.1.1 in /usr/local/lib/python3.10/dist-packages (from werkzeug>=1.0.1->tensorboard<2.15,>=2.14->tensorflow->sumonet) (2.1.3)\n",
            "Requirement already satisfied: pyasn1<0.6.0,>=0.4.6 in /usr/local/lib/python3.10/dist-packages (from pyasn1-modules>=0.2.1->google-auth<3,>=1.6.3->tensorboard<2.15,>=2.14->tensorflow->sumonet) (0.5.1)\n",
            "Requirement already satisfied: oauthlib>=3.0.0 in /usr/local/lib/python3.10/dist-packages (from requests-oauthlib>=0.7.0->google-auth-oauthlib<1.1,>=0.5->tensorboard<2.15,>=2.14->tensorflow->sumonet) (3.2.2)\n",
            "Building wheels for collected packages: sumonet, epitopepredict\n",
            "  Building wheel for sumonet (setup.py) ... \u001b[?25l\u001b[?25hdone\n",
            "  Created wheel for sumonet: filename=sumonet-0.1.5-py3-none-any.whl size=790946 sha256=5773b447a4424980d4691b9a686314d79e1dedd29cd280306f3b00699e892237\n",
            "  Stored in directory: /root/.cache/pip/wheels/5e/53/5a/dbf0d69cf2495a03cde7d25de014f657571b6617a6bbf64bdc\n",
            "  Building wheel for epitopepredict (setup.py) ... \u001b[?25l\u001b[?25hdone\n",
            "  Created wheel for epitopepredict: filename=epitopepredict-0.5.0-py3-none-any.whl size=5973737 sha256=95e7c0db760cafa01682b038438381041db508719e94756c3258b3ae73e60925\n",
            "  Stored in directory: /root/.cache/pip/wheels/e3/d6/36/567730c38eb067fba937ec0b48e2d508d0e171b9a20b7cc598\n",
            "Successfully built sumonet epitopepredict\n",
            "Installing collected packages: loguru, biopython, epitopepredict, sumonet\n",
            "Successfully installed biopython-1.81 epitopepredict-0.5.0 loguru-0.7.2 sumonet-0.1.5\n"
          ]
        }
      ],
      "source": [
        "\n",
        "!pip install sumonet"
      ]
    },
    {
      "cell_type": "code",
      "source": [
        "import pandas as pd\n",
        "from sklearn.model_selection import train_test_split\n",
        "\n",
        "# Load your CSV file\n",
        "file_path = 'data.csv'  # Replace with the actual file path\n",
        "df = pd.read_csv(file_path)\n",
        "\n",
        "# Assuming 'Sequence' is the column containing protein sequences, and 'Label' is the target column\n",
        "X = df['Sequence'].tolist()  # Convert 'Sequence' column to a list\n",
        "y = df['Label'].tolist()  # Convert 'Label' column to a list\n",
        "\n",
        "# Split the data into training and testing sets\n",
        "X_train, X_test, y_train, y_test = train_test_split(X, y, test_size=0.2, random_state=42)\n"
      ],
      "metadata": {
        "id": "ZIu_fX1ti6kZ"
      },
      "execution_count": 37,
      "outputs": []
    },
    {
      "cell_type": "code",
      "source": [
        "from sumonet.utils.encodings import Encoding\n",
        "encoder = Encoding(encoderType='one-hot')\n",
        "X_train_encoded = encoder.encode_data(X_train)"
      ],
      "metadata": {
        "id": "-7Nudbtwj19C"
      },
      "execution_count": 38,
      "outputs": []
    },
    {
      "cell_type": "code",
      "source": [
        "import numpy as np\n",
        "y_train = np.asarray(y_train)\n",
        "y_train = (y_train[:,None] == np.arange(2)).astype(int)"
      ],
      "metadata": {
        "id": "Vb8nDMuHj2DB"
      },
      "execution_count": 39,
      "outputs": []
    },
    {
      "cell_type": "code",
      "source": [
        "from sumonet.model.architecture import SUMOnet\n",
        "model = SUMOnet(input_shape = X_train_encoded.shape[1:] )\n",
        "model.compile(loss='categorical_crossentropy', optimizer='Adam', metrics=['accuracy'])\n",
        "model.fit(X_train_encoded,y_train,epochs=3)"
      ],
      "metadata": {
        "colab": {
          "base_uri": "https://localhost:8080/"
        },
        "id": "JIOploItka64",
        "outputId": "3a954187-f562-4b10-907c-106c176df831"
      },
      "execution_count": 41,
      "outputs": [
        {
          "output_type": "stream",
          "name": "stdout",
          "text": [
            "Epoch 1/3\n",
            "187/187 [==============================] - 15s 48ms/step - loss: 0.7019 - accuracy: 0.5097\n",
            "Epoch 2/3\n",
            "187/187 [==============================] - 10s 52ms/step - loss: 0.6951 - accuracy: 0.5248\n",
            "Epoch 3/3\n",
            "187/187 [==============================] - 10s 55ms/step - loss: 0.6952 - accuracy: 0.5069\n"
          ]
        },
        {
          "output_type": "execute_result",
          "data": {
            "text/plain": [
              "<keras.src.callbacks.History at 0x7e1caf5c1c30>"
            ]
          },
          "metadata": {},
          "execution_count": 41
        }
      ]
    },
    {
      "cell_type": "code",
      "source": [
        "encoder = Encoding(encoderType='one-hot')\n",
        "X_test_encoded = encoder.encode_data(X_test)\n",
        "y_preds = model.predict(X_test_encoded)"
      ],
      "metadata": {
        "colab": {
          "base_uri": "https://localhost:8080/"
        },
        "id": "Dt-dzJHik4XU",
        "outputId": "ad5c5f2c-2f53-460d-a781-6ff9a16c41d4"
      },
      "execution_count": 42,
      "outputs": [
        {
          "output_type": "stream",
          "name": "stdout",
          "text": [
            "47/47 [==============================] - 2s 15ms/step\n"
          ]
        }
      ]
    },
    {
      "cell_type": "code",
      "source": [
        "from sklearn import metrics\n",
        "\n",
        "def f1_score(y_true, y_probs):\n",
        "    return metrics.f1_score(y_true, y_probs.argmax(-1))\n",
        "\n",
        "def mcc(y_true, y_probs):\n",
        "    return metrics.matthews_corrcoef(y_true, y_probs.argmax(-1))\n",
        "\n",
        "def rocAuc_score(y_true, y_probs):\n",
        "    lr_fpr, lr_tpr, _ = metrics.roc_curve(y_true, y_probs[:,1])\n",
        "    return metrics.auc(lr_fpr, lr_tpr)\n",
        "\n",
        "def aupr_score(y_true, y_probs):\n",
        "    precision, recall, _ = metrics.precision_recall_curve(y_true, y_probs[:,1])\n",
        "    return metrics.auc(recall, precision)\n",
        "\n",
        "def accuracy(y_true, y_probs):\n",
        "    predicted_labels = y_probs.argmax(-1)\n",
        "    return metrics.accuracy_score(y_true, predicted_labels)\n",
        "\n",
        "def auc_score(y_true, y_probs):\n",
        "    return metrics.roc_auc_score(y_true, y_probs[:,1])\n",
        "\n",
        "def evaluate(y_true, y_probs, metrics_):\n",
        "    metricsDict = {'f1': f1_score, 'mcc': mcc, 'roc': rocAuc_score, 'aupr': aupr_score, 'accuracy': accuracy, 'auc': auc_score}\n",
        "    outputEval = {}\n",
        "\n",
        "    if type(metrics_) == str:\n",
        "        if metrics_.lower() not in metricsDict:\n",
        "            raise ValueError(f\"{metrics_.lower()} is not supported! f1, mcc, roc, aupr, accuracy, and auc are supported evaluation metrics\")\n",
        "        else:\n",
        "            outputEval[metrics_.lower()] = metricsDict[metrics_.lower()](y_true, y_probs)\n",
        "        return outputEval\n",
        "\n",
        "    elif type(metrics_) == list:\n",
        "        metricNames = [x.lower() for x in metrics_]\n",
        "        for metricName in metricNames:\n",
        "            if metricName not in metricsDict:\n",
        "                raise ValueError(f\"{metricName} is not supported! f1, mcc, roc, aupr, accuracy, and auc are supported evaluation metrics\")\n",
        "            else:\n",
        "                outputEval[metricName] = metricsDict[metricName](y_true, y_probs)\n",
        "        return outputEval\n",
        "\n",
        "    else:\n",
        "        raise TypeError(\"metrics must be a string or list of strings\")\n"
      ],
      "metadata": {
        "id": "Tvr9tVwtlA3-"
      },
      "execution_count": 43,
      "outputs": []
    },
    {
      "cell_type": "code",
      "source": [
        "y_test = np.asarray(y_test)\n",
        "y_test = (y_test[:,None] == np.arange(2)).astype(int)\n",
        "y_test\n",
        "f1_score = evaluate(y_test.argmax(-1),y_preds,'f1')\n",
        "\n",
        "mcc = evaluate(y_test.argmax(-1),y_preds,'mcc')\n",
        "roc = evaluate(y_test.argmax(-1),y_preds,'roc')\n",
        "aupr = evaluate(y_test.argmax(-1),y_preds,'aupr')\n",
        "\n",
        "\n",
        "print(f1_score)\n",
        "print(mcc)\n",
        "print(roc)\n",
        "print(aupr)"
      ],
      "metadata": {
        "colab": {
          "base_uri": "https://localhost:8080/"
        },
        "id": "OdDCbQZKlKxQ",
        "outputId": "bae1dca2-a600-4d04-9dc9-bf313757224d"
      },
      "execution_count": 44,
      "outputs": [
        {
          "output_type": "stream",
          "name": "stdout",
          "text": [
            "{'f1': 0.18061674008810572}\n",
            "{'mcc': 0.025829157350258414}\n",
            "{'roc': 0.5554008828625453}\n",
            "{'aupr': 0.5505524605183632}\n"
          ]
        }
      ]
    },
    {
      "cell_type": "code",
      "source": [
        "acc = evaluate(y_test.argmax(-1),y_preds,'accuracy')\n",
        "acc"
      ],
      "metadata": {
        "colab": {
          "base_uri": "https://localhost:8080/"
        },
        "id": "FyAnukXrqLkf",
        "outputId": "5ed1b406-d13a-4450-8bb9-117db3978461"
      },
      "execution_count": 45,
      "outputs": [
        {
          "output_type": "execute_result",
          "data": {
            "text/plain": [
              "{'accuracy': 0.5013404825737265}"
            ]
          },
          "metadata": {},
          "execution_count": 45
        }
      ]
    },
    {
      "cell_type": "code",
      "source": [
        "auc = evaluate(y_test.argmax(-1),y_preds,'auc')\n",
        "auc"
      ],
      "metadata": {
        "colab": {
          "base_uri": "https://localhost:8080/"
        },
        "id": "t6gR-h9zqUYA",
        "outputId": "9abe0150-e426-42b1-b580-2727c4eedf41"
      },
      "execution_count": 47,
      "outputs": [
        {
          "output_type": "execute_result",
          "data": {
            "text/plain": [
              "{'auc': 0.5554008828625453}"
            ]
          },
          "metadata": {},
          "execution_count": 47
        }
      ]
    }
  ]
}
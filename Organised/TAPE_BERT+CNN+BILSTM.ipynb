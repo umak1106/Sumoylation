{
  "cells": [
    {
      "cell_type": "code",
      "execution_count": 1,
      "metadata": {
        "colab": {
          "base_uri": "https://localhost:8080/"
        },
        "id": "BZQXROyCGPJB",
        "outputId": "f3286d12-9bec-426f-df40-11565bf8d430"
      },
      "outputs": [
        {
          "name": "stdout",
          "output_type": "stream",
          "text": [
            "Requirement already satisfied: transformers in /usr/local/lib/python3.10/dist-packages (4.35.2)\n",
            "Requirement already satisfied: filelock in /usr/local/lib/python3.10/dist-packages (from transformers) (3.13.1)\n",
            "Requirement already satisfied: huggingface-hub<1.0,>=0.16.4 in /usr/local/lib/python3.10/dist-packages (from transformers) (0.19.4)\n",
            "Requirement already satisfied: numpy>=1.17 in /usr/local/lib/python3.10/dist-packages (from transformers) (1.23.5)\n",
            "Requirement already satisfied: packaging>=20.0 in /usr/local/lib/python3.10/dist-packages (from transformers) (23.2)\n",
            "Requirement already satisfied: pyyaml>=5.1 in /usr/local/lib/python3.10/dist-packages (from transformers) (6.0.1)\n",
            "Requirement already satisfied: regex!=2019.12.17 in /usr/local/lib/python3.10/dist-packages (from transformers) (2023.6.3)\n",
            "Requirement already satisfied: requests in /usr/local/lib/python3.10/dist-packages (from transformers) (2.31.0)\n",
            "Requirement already satisfied: tokenizers<0.19,>=0.14 in /usr/local/lib/python3.10/dist-packages (from transformers) (0.15.0)\n",
            "Requirement already satisfied: safetensors>=0.3.1 in /usr/local/lib/python3.10/dist-packages (from transformers) (0.4.1)\n",
            "Requirement already satisfied: tqdm>=4.27 in /usr/local/lib/python3.10/dist-packages (from transformers) (4.66.1)\n",
            "Requirement already satisfied: fsspec>=2023.5.0 in /usr/local/lib/python3.10/dist-packages (from huggingface-hub<1.0,>=0.16.4->transformers) (2023.6.0)\n",
            "Requirement already satisfied: typing-extensions>=3.7.4.3 in /usr/local/lib/python3.10/dist-packages (from huggingface-hub<1.0,>=0.16.4->transformers) (4.5.0)\n",
            "Requirement already satisfied: charset-normalizer<4,>=2 in /usr/local/lib/python3.10/dist-packages (from requests->transformers) (3.3.2)\n",
            "Requirement already satisfied: idna<4,>=2.5 in /usr/local/lib/python3.10/dist-packages (from requests->transformers) (3.6)\n",
            "Requirement already satisfied: urllib3<3,>=1.21.1 in /usr/local/lib/python3.10/dist-packages (from requests->transformers) (2.0.7)\n",
            "Requirement already satisfied: certifi>=2017.4.17 in /usr/local/lib/python3.10/dist-packages (from requests->transformers) (2023.11.17)\n"
          ]
        }
      ],
      "source": [
        "!pip install transformers"
      ]
    },
    {
      "cell_type": "code",
      "execution_count": 2,
      "metadata": {
        "colab": {
          "base_uri": "https://localhost:8080/"
        },
        "id": "xz86OrCMhhRw",
        "outputId": "7667e736-1c5d-437f-f20b-887fbbd39846"
      },
      "outputs": [
        {
          "name": "stdout",
          "output_type": "stream",
          "text": [
            "Collecting tape_proteins\n",
            "  Downloading tape_proteins-0.5-py3-none-any.whl (68 kB)\n",
            "\u001b[?25l     \u001b[90m━━━━━━━━━━━━━━━━━━━━━━━━━━━━━━━━━━━━━━━━\u001b[0m \u001b[32m0.0/68.9 kB\u001b[0m \u001b[31m?\u001b[0m eta \u001b[36m-:--:--\u001b[0m\r\u001b[2K     \u001b[90m━━━━━━━━━━━━━━━━━━━━━━━━━━━━━━━━━━━━━━━━\u001b[0m \u001b[32m68.9/68.9 kB\u001b[0m \u001b[31m2.4 MB/s\u001b[0m eta \u001b[36m0:00:00\u001b[0m\n",
            "\u001b[?25hRequirement already satisfied: tqdm in /usr/local/lib/python3.10/dist-packages (from tape_proteins) (4.66.1)\n",
            "Collecting tensorboardX (from tape_proteins)\n",
            "  Downloading tensorboardX-2.6.2.2-py2.py3-none-any.whl (101 kB)\n",
            "\u001b[?25l     \u001b[90m━━━━━━━━━━━━━━━━━━━━━━━━━━━━━━━━━━━━━━━━\u001b[0m \u001b[32m0.0/101.7 kB\u001b[0m \u001b[31m?\u001b[0m eta \u001b[36m-:--:--\u001b[0m\r\u001b[2K     \u001b[90m━━━━━━━━━━━━━━━━━━━━━━━━━━━━━━━━━━━━━━━━\u001b[0m \u001b[32m101.7/101.7 kB\u001b[0m \u001b[31m6.7 MB/s\u001b[0m eta \u001b[36m0:00:00\u001b[0m\n",
            "\u001b[?25hRequirement already satisfied: scipy in /usr/local/lib/python3.10/dist-packages (from tape_proteins) (1.11.4)\n",
            "Collecting lmdb (from tape_proteins)\n",
            "  Downloading lmdb-1.4.1-cp310-cp310-manylinux_2_17_x86_64.manylinux2014_x86_64.whl (299 kB)\n",
            "\u001b[2K     \u001b[90m━━━━━━━━━━━━━━━━━━━━━━━━━━━━━━━━━━━━━━━━\u001b[0m \u001b[32m299.2/299.2 kB\u001b[0m \u001b[31m9.8 MB/s\u001b[0m eta \u001b[36m0:00:00\u001b[0m\n",
            "\u001b[?25hCollecting boto3 (from tape_proteins)\n",
            "  Downloading boto3-1.33.8-py3-none-any.whl (139 kB)\n",
            "\u001b[2K     \u001b[90m━━━━━━━━━━━━━━━━━━━━━━━━━━━━━━━━━━━━━━━━\u001b[0m \u001b[32m139.3/139.3 kB\u001b[0m \u001b[31m8.7 MB/s\u001b[0m eta \u001b[36m0:00:00\u001b[0m\n",
            "\u001b[?25hRequirement already satisfied: requests in /usr/local/lib/python3.10/dist-packages (from tape_proteins) (2.31.0)\n",
            "Collecting biopython (from tape_proteins)\n",
            "  Downloading biopython-1.81-cp310-cp310-manylinux_2_17_x86_64.manylinux2014_x86_64.whl (3.1 MB)\n",
            "\u001b[2K     \u001b[90m━━━━━━━━━━━━━━━━━━━━━━━━━━━━━━━━━━━━━━━━\u001b[0m \u001b[32m3.1/3.1 MB\u001b[0m \u001b[31m17.5 MB/s\u001b[0m eta \u001b[36m0:00:00\u001b[0m\n",
            "\u001b[?25hRequirement already satisfied: filelock in /usr/local/lib/python3.10/dist-packages (from tape_proteins) (3.13.1)\n",
            "Requirement already satisfied: numpy in /usr/local/lib/python3.10/dist-packages (from biopython->tape_proteins) (1.23.5)\n",
            "Collecting botocore<1.34.0,>=1.33.8 (from boto3->tape_proteins)\n",
            "  Downloading botocore-1.33.8-py3-none-any.whl (11.8 MB)\n",
            "\u001b[2K     \u001b[90m━━━━━━━━━━━━━━━━━━━━━━━━━━━━━━━━━━━━━━━━\u001b[0m \u001b[32m11.8/11.8 MB\u001b[0m \u001b[31m47.2 MB/s\u001b[0m eta \u001b[36m0:00:00\u001b[0m\n",
            "\u001b[?25hCollecting jmespath<2.0.0,>=0.7.1 (from boto3->tape_proteins)\n",
            "  Downloading jmespath-1.0.1-py3-none-any.whl (20 kB)\n",
            "Collecting s3transfer<0.9.0,>=0.8.2 (from boto3->tape_proteins)\n",
            "  Downloading s3transfer-0.8.2-py3-none-any.whl (82 kB)\n",
            "\u001b[2K     \u001b[90m━━━━━━━━━━━━━━━━━━━━━━━━━━━━━━━━━━━━━━━━\u001b[0m \u001b[32m82.0/82.0 kB\u001b[0m \u001b[31m7.8 MB/s\u001b[0m eta \u001b[36m0:00:00\u001b[0m\n",
            "\u001b[?25hRequirement already satisfied: charset-normalizer<4,>=2 in /usr/local/lib/python3.10/dist-packages (from requests->tape_proteins) (3.3.2)\n",
            "Requirement already satisfied: idna<4,>=2.5 in /usr/local/lib/python3.10/dist-packages (from requests->tape_proteins) (3.6)\n",
            "Requirement already satisfied: urllib3<3,>=1.21.1 in /usr/local/lib/python3.10/dist-packages (from requests->tape_proteins) (2.0.7)\n",
            "Requirement already satisfied: certifi>=2017.4.17 in /usr/local/lib/python3.10/dist-packages (from requests->tape_proteins) (2023.11.17)\n",
            "Requirement already satisfied: packaging in /usr/local/lib/python3.10/dist-packages (from tensorboardX->tape_proteins) (23.2)\n",
            "Requirement already satisfied: protobuf>=3.20 in /usr/local/lib/python3.10/dist-packages (from tensorboardX->tape_proteins) (3.20.3)\n",
            "Requirement already satisfied: python-dateutil<3.0.0,>=2.1 in /usr/local/lib/python3.10/dist-packages (from botocore<1.34.0,>=1.33.8->boto3->tape_proteins) (2.8.2)\n",
            "Requirement already satisfied: six>=1.5 in /usr/local/lib/python3.10/dist-packages (from python-dateutil<3.0.0,>=2.1->botocore<1.34.0,>=1.33.8->boto3->tape_proteins) (1.16.0)\n",
            "Installing collected packages: lmdb, tensorboardX, jmespath, biopython, botocore, s3transfer, boto3, tape_proteins\n",
            "Successfully installed biopython-1.81 boto3-1.33.8 botocore-1.33.8 jmespath-1.0.1 lmdb-1.4.1 s3transfer-0.8.2 tape_proteins-0.5 tensorboardX-2.6.2.2\n"
          ]
        }
      ],
      "source": [
        "!pip install tape_proteins"
      ]
    },
    {
      "cell_type": "code",
      "execution_count": 3,
      "metadata": {
        "colab": {
          "base_uri": "https://localhost:8080/"
        },
        "id": "RG2OiV8Gh9aK",
        "outputId": "0f4de97b-167e-43ed-ca01-cdbe2514e40a"
      },
      "outputs": [
        {
          "name": "stdout",
          "output_type": "stream",
          "text": [
            "Requirement already satisfied: pandas in /usr/local/lib/python3.10/dist-packages (1.5.3)\n",
            "Requirement already satisfied: python-dateutil>=2.8.1 in /usr/local/lib/python3.10/dist-packages (from pandas) (2.8.2)\n",
            "Requirement already satisfied: pytz>=2020.1 in /usr/local/lib/python3.10/dist-packages (from pandas) (2023.3.post1)\n",
            "Requirement already satisfied: numpy>=1.21.0 in /usr/local/lib/python3.10/dist-packages (from pandas) (1.23.5)\n",
            "Requirement already satisfied: six>=1.5 in /usr/local/lib/python3.10/dist-packages (from python-dateutil>=2.8.1->pandas) (1.16.0)\n"
          ]
        }
      ],
      "source": [
        "!pip install pandas\n",
        "import pandas as pd\n",
        "train_df = pd.read_csv(\"data.csv\", header=0)\n",
        "train_df_bert = train_df\n",
        "train_sentences = train_df_bert.Sequence.values\n",
        "train_labels = train_df_bert.Label.values"
      ]
    },
    {
      "cell_type": "code",
      "execution_count": 4,
      "metadata": {
        "colab": {
          "base_uri": "https://localhost:8080/"
        },
        "id": "f9XHVAaukbDN",
        "outputId": "55eddf37-27d6-4a1b-bea1-5f300c1d6aeb"
      },
      "outputs": [
        {
          "name": "stdout",
          "output_type": "stream",
          "text": [
            "Requirement already satisfied: numpy in /usr/local/lib/python3.10/dist-packages (1.23.5)\n"
          ]
        }
      ],
      "source": [
        "!pip install numpy"
      ]
    },
    {
      "cell_type": "code",
      "execution_count": 6,
      "metadata": {
        "colab": {
          "base_uri": "https://localhost:8080/"
        },
        "id": "rMhMyujOrCM3",
        "outputId": "3f85a3e4-5b5e-4823-ab9c-50241625f023"
      },
      "outputs": [
        {
          "name": "stdout",
          "output_type": "stream",
          "text": [
            "Requirement already satisfied: tensorflow in /usr/local/lib/python3.10/dist-packages (2.14.0)\n",
            "Requirement already satisfied: absl-py>=1.0.0 in /usr/local/lib/python3.10/dist-packages (from tensorflow) (1.4.0)\n",
            "Requirement already satisfied: astunparse>=1.6.0 in /usr/local/lib/python3.10/dist-packages (from tensorflow) (1.6.3)\n",
            "Requirement already satisfied: flatbuffers>=23.5.26 in /usr/local/lib/python3.10/dist-packages (from tensorflow) (23.5.26)\n",
            "Requirement already satisfied: gast!=0.5.0,!=0.5.1,!=0.5.2,>=0.2.1 in /usr/local/lib/python3.10/dist-packages (from tensorflow) (0.5.4)\n",
            "Requirement already satisfied: google-pasta>=0.1.1 in /usr/local/lib/python3.10/dist-packages (from tensorflow) (0.2.0)\n",
            "Requirement already satisfied: h5py>=2.9.0 in /usr/local/lib/python3.10/dist-packages (from tensorflow) (3.9.0)\n",
            "Requirement already satisfied: libclang>=13.0.0 in /usr/local/lib/python3.10/dist-packages (from tensorflow) (16.0.6)\n",
            "Requirement already satisfied: ml-dtypes==0.2.0 in /usr/local/lib/python3.10/dist-packages (from tensorflow) (0.2.0)\n",
            "Requirement already satisfied: numpy>=1.23.5 in /usr/local/lib/python3.10/dist-packages (from tensorflow) (1.23.5)\n",
            "Requirement already satisfied: opt-einsum>=2.3.2 in /usr/local/lib/python3.10/dist-packages (from tensorflow) (3.3.0)\n",
            "Requirement already satisfied: packaging in /usr/local/lib/python3.10/dist-packages (from tensorflow) (23.2)\n",
            "Requirement already satisfied: protobuf!=4.21.0,!=4.21.1,!=4.21.2,!=4.21.3,!=4.21.4,!=4.21.5,<5.0.0dev,>=3.20.3 in /usr/local/lib/python3.10/dist-packages (from tensorflow) (3.20.3)\n",
            "Requirement already satisfied: setuptools in /usr/local/lib/python3.10/dist-packages (from tensorflow) (67.7.2)\n",
            "Requirement already satisfied: six>=1.12.0 in /usr/local/lib/python3.10/dist-packages (from tensorflow) (1.16.0)\n",
            "Requirement already satisfied: termcolor>=1.1.0 in /usr/local/lib/python3.10/dist-packages (from tensorflow) (2.4.0)\n",
            "Requirement already satisfied: typing-extensions>=3.6.6 in /usr/local/lib/python3.10/dist-packages (from tensorflow) (4.5.0)\n",
            "Requirement already satisfied: wrapt<1.15,>=1.11.0 in /usr/local/lib/python3.10/dist-packages (from tensorflow) (1.14.1)\n",
            "Requirement already satisfied: tensorflow-io-gcs-filesystem>=0.23.1 in /usr/local/lib/python3.10/dist-packages (from tensorflow) (0.34.0)\n",
            "Requirement already satisfied: grpcio<2.0,>=1.24.3 in /usr/local/lib/python3.10/dist-packages (from tensorflow) (1.59.3)\n",
            "Requirement already satisfied: tensorboard<2.15,>=2.14 in /usr/local/lib/python3.10/dist-packages (from tensorflow) (2.14.1)\n",
            "Requirement already satisfied: tensorflow-estimator<2.15,>=2.14.0 in /usr/local/lib/python3.10/dist-packages (from tensorflow) (2.14.0)\n",
            "Requirement already satisfied: keras<2.15,>=2.14.0 in /usr/local/lib/python3.10/dist-packages (from tensorflow) (2.14.0)\n",
            "Requirement already satisfied: wheel<1.0,>=0.23.0 in /usr/local/lib/python3.10/dist-packages (from astunparse>=1.6.0->tensorflow) (0.42.0)\n",
            "Requirement already satisfied: google-auth<3,>=1.6.3 in /usr/local/lib/python3.10/dist-packages (from tensorboard<2.15,>=2.14->tensorflow) (2.17.3)\n",
            "Requirement already satisfied: google-auth-oauthlib<1.1,>=0.5 in /usr/local/lib/python3.10/dist-packages (from tensorboard<2.15,>=2.14->tensorflow) (1.0.0)\n",
            "Requirement already satisfied: markdown>=2.6.8 in /usr/local/lib/python3.10/dist-packages (from tensorboard<2.15,>=2.14->tensorflow) (3.5.1)\n",
            "Requirement already satisfied: requests<3,>=2.21.0 in /usr/local/lib/python3.10/dist-packages (from tensorboard<2.15,>=2.14->tensorflow) (2.31.0)\n",
            "Requirement already satisfied: tensorboard-data-server<0.8.0,>=0.7.0 in /usr/local/lib/python3.10/dist-packages (from tensorboard<2.15,>=2.14->tensorflow) (0.7.2)\n",
            "Requirement already satisfied: werkzeug>=1.0.1 in /usr/local/lib/python3.10/dist-packages (from tensorboard<2.15,>=2.14->tensorflow) (3.0.1)\n",
            "Requirement already satisfied: cachetools<6.0,>=2.0.0 in /usr/local/lib/python3.10/dist-packages (from google-auth<3,>=1.6.3->tensorboard<2.15,>=2.14->tensorflow) (5.3.2)\n",
            "Requirement already satisfied: pyasn1-modules>=0.2.1 in /usr/local/lib/python3.10/dist-packages (from google-auth<3,>=1.6.3->tensorboard<2.15,>=2.14->tensorflow) (0.3.0)\n",
            "Requirement already satisfied: rsa<5,>=3.1.4 in /usr/local/lib/python3.10/dist-packages (from google-auth<3,>=1.6.3->tensorboard<2.15,>=2.14->tensorflow) (4.9)\n",
            "Requirement already satisfied: requests-oauthlib>=0.7.0 in /usr/local/lib/python3.10/dist-packages (from google-auth-oauthlib<1.1,>=0.5->tensorboard<2.15,>=2.14->tensorflow) (1.3.1)\n",
            "Requirement already satisfied: charset-normalizer<4,>=2 in /usr/local/lib/python3.10/dist-packages (from requests<3,>=2.21.0->tensorboard<2.15,>=2.14->tensorflow) (3.3.2)\n",
            "Requirement already satisfied: idna<4,>=2.5 in /usr/local/lib/python3.10/dist-packages (from requests<3,>=2.21.0->tensorboard<2.15,>=2.14->tensorflow) (3.6)\n",
            "Requirement already satisfied: urllib3<3,>=1.21.1 in /usr/local/lib/python3.10/dist-packages (from requests<3,>=2.21.0->tensorboard<2.15,>=2.14->tensorflow) (2.0.7)\n",
            "Requirement already satisfied: certifi>=2017.4.17 in /usr/local/lib/python3.10/dist-packages (from requests<3,>=2.21.0->tensorboard<2.15,>=2.14->tensorflow) (2023.11.17)\n",
            "Requirement already satisfied: MarkupSafe>=2.1.1 in /usr/local/lib/python3.10/dist-packages (from werkzeug>=1.0.1->tensorboard<2.15,>=2.14->tensorflow) (2.1.3)\n",
            "Requirement already satisfied: pyasn1<0.6.0,>=0.4.6 in /usr/local/lib/python3.10/dist-packages (from pyasn1-modules>=0.2.1->google-auth<3,>=1.6.3->tensorboard<2.15,>=2.14->tensorflow) (0.5.1)\n",
            "Requirement already satisfied: oauthlib>=3.0.0 in /usr/local/lib/python3.10/dist-packages (from requests-oauthlib>=0.7.0->google-auth-oauthlib<1.1,>=0.5->tensorboard<2.15,>=2.14->tensorflow) (3.2.2)\n",
            "Collecting pytorch_lightning\n",
            "  Downloading pytorch_lightning-2.1.2-py3-none-any.whl (776 kB)\n",
            "\u001b[2K     \u001b[90m━━━━━━━━━━━━━━━━━━━━━━━━━━━━━━━━━━━━━━━━\u001b[0m \u001b[32m776.9/776.9 kB\u001b[0m \u001b[31m9.3 MB/s\u001b[0m eta \u001b[36m0:00:00\u001b[0m\n",
            "\u001b[?25hRequirement already satisfied: numpy>=1.17.2 in /usr/local/lib/python3.10/dist-packages (from pytorch_lightning) (1.23.5)\n",
            "Requirement already satisfied: torch>=1.12.0 in /usr/local/lib/python3.10/dist-packages (from pytorch_lightning) (2.1.0+cu118)\n",
            "Requirement already satisfied: tqdm>=4.57.0 in /usr/local/lib/python3.10/dist-packages (from pytorch_lightning) (4.66.1)\n",
            "Requirement already satisfied: PyYAML>=5.4 in /usr/local/lib/python3.10/dist-packages (from pytorch_lightning) (6.0.1)\n",
            "Requirement already satisfied: fsspec[http]>2021.06.0 in /usr/local/lib/python3.10/dist-packages (from pytorch_lightning) (2023.6.0)\n",
            "Collecting torchmetrics>=0.7.0 (from pytorch_lightning)\n",
            "  Downloading torchmetrics-1.2.1-py3-none-any.whl (806 kB)\n",
            "\u001b[2K     \u001b[90m━━━━━━━━━━━━━━━━━━━━━━━━━━━━━━━━━━━━━━━━\u001b[0m \u001b[32m806.1/806.1 kB\u001b[0m \u001b[31m17.1 MB/s\u001b[0m eta \u001b[36m0:00:00\u001b[0m\n",
            "\u001b[?25hRequirement already satisfied: packaging>=20.0 in /usr/local/lib/python3.10/dist-packages (from pytorch_lightning) (23.2)\n",
            "Requirement already satisfied: typing-extensions>=4.0.0 in /usr/local/lib/python3.10/dist-packages (from pytorch_lightning) (4.5.0)\n",
            "Collecting lightning-utilities>=0.8.0 (from pytorch_lightning)\n",
            "  Downloading lightning_utilities-0.10.0-py3-none-any.whl (24 kB)\n",
            "Requirement already satisfied: requests in /usr/local/lib/python3.10/dist-packages (from fsspec[http]>2021.06.0->pytorch_lightning) (2.31.0)\n",
            "Requirement already satisfied: aiohttp!=4.0.0a0,!=4.0.0a1 in /usr/local/lib/python3.10/dist-packages (from fsspec[http]>2021.06.0->pytorch_lightning) (3.9.1)\n",
            "Requirement already satisfied: setuptools in /usr/local/lib/python3.10/dist-packages (from lightning-utilities>=0.8.0->pytorch_lightning) (67.7.2)\n",
            "Requirement already satisfied: filelock in /usr/local/lib/python3.10/dist-packages (from torch>=1.12.0->pytorch_lightning) (3.13.1)\n",
            "Requirement already satisfied: sympy in /usr/local/lib/python3.10/dist-packages (from torch>=1.12.0->pytorch_lightning) (1.12)\n",
            "Requirement already satisfied: networkx in /usr/local/lib/python3.10/dist-packages (from torch>=1.12.0->pytorch_lightning) (3.2.1)\n",
            "Requirement already satisfied: jinja2 in /usr/local/lib/python3.10/dist-packages (from torch>=1.12.0->pytorch_lightning) (3.1.2)\n",
            "Requirement already satisfied: triton==2.1.0 in /usr/local/lib/python3.10/dist-packages (from torch>=1.12.0->pytorch_lightning) (2.1.0)\n",
            "Requirement already satisfied: attrs>=17.3.0 in /usr/local/lib/python3.10/dist-packages (from aiohttp!=4.0.0a0,!=4.0.0a1->fsspec[http]>2021.06.0->pytorch_lightning) (23.1.0)\n",
            "Requirement already satisfied: multidict<7.0,>=4.5 in /usr/local/lib/python3.10/dist-packages (from aiohttp!=4.0.0a0,!=4.0.0a1->fsspec[http]>2021.06.0->pytorch_lightning) (6.0.4)\n",
            "Requirement already satisfied: yarl<2.0,>=1.0 in /usr/local/lib/python3.10/dist-packages (from aiohttp!=4.0.0a0,!=4.0.0a1->fsspec[http]>2021.06.0->pytorch_lightning) (1.9.3)\n",
            "Requirement already satisfied: frozenlist>=1.1.1 in /usr/local/lib/python3.10/dist-packages (from aiohttp!=4.0.0a0,!=4.0.0a1->fsspec[http]>2021.06.0->pytorch_lightning) (1.4.0)\n",
            "Requirement already satisfied: aiosignal>=1.1.2 in /usr/local/lib/python3.10/dist-packages (from aiohttp!=4.0.0a0,!=4.0.0a1->fsspec[http]>2021.06.0->pytorch_lightning) (1.3.1)\n",
            "Requirement already satisfied: async-timeout<5.0,>=4.0 in /usr/local/lib/python3.10/dist-packages (from aiohttp!=4.0.0a0,!=4.0.0a1->fsspec[http]>2021.06.0->pytorch_lightning) (4.0.3)\n",
            "Requirement already satisfied: MarkupSafe>=2.0 in /usr/local/lib/python3.10/dist-packages (from jinja2->torch>=1.12.0->pytorch_lightning) (2.1.3)\n",
            "Requirement already satisfied: charset-normalizer<4,>=2 in /usr/local/lib/python3.10/dist-packages (from requests->fsspec[http]>2021.06.0->pytorch_lightning) (3.3.2)\n",
            "Requirement already satisfied: idna<4,>=2.5 in /usr/local/lib/python3.10/dist-packages (from requests->fsspec[http]>2021.06.0->pytorch_lightning) (3.6)\n",
            "Requirement already satisfied: urllib3<3,>=1.21.1 in /usr/local/lib/python3.10/dist-packages (from requests->fsspec[http]>2021.06.0->pytorch_lightning) (2.0.7)\n",
            "Requirement already satisfied: certifi>=2017.4.17 in /usr/local/lib/python3.10/dist-packages (from requests->fsspec[http]>2021.06.0->pytorch_lightning) (2023.11.17)\n",
            "Requirement already satisfied: mpmath>=0.19 in /usr/local/lib/python3.10/dist-packages (from sympy->torch>=1.12.0->pytorch_lightning) (1.3.0)\n",
            "Installing collected packages: lightning-utilities, torchmetrics, pytorch_lightning\n",
            "Successfully installed lightning-utilities-0.10.0 pytorch_lightning-2.1.2 torchmetrics-1.2.1\n",
            "Collecting SentencePiece\n",
            "  Downloading sentencepiece-0.1.99-cp310-cp310-manylinux_2_17_x86_64.manylinux2014_x86_64.whl (1.3 MB)\n",
            "\u001b[2K     \u001b[90m━━━━━━━━━━━━━━━━━━━━━━━━━━━━━━━━━━━━━━━━\u001b[0m \u001b[32m1.3/1.3 MB\u001b[0m \u001b[31m10.2 MB/s\u001b[0m eta \u001b[36m0:00:00\u001b[0m\n",
            "\u001b[?25hInstalling collected packages: SentencePiece\n",
            "Successfully installed SentencePiece-0.1.99\n"
          ]
        }
      ],
      "source": [
        "!pip install tensorflow\n",
        "!pip install pytorch_lightning\n",
        "!pip install SentencePiece"
      ]
    },
    {
      "cell_type": "code",
      "execution_count": 8,
      "metadata": {
        "colab": {
          "base_uri": "https://localhost:8080/"
        },
        "id": "Ym77W9cgw9RY",
        "outputId": "86190f37-5e05-4b92-d077-0579aada1e1b"
      },
      "outputs": [
        {
          "name": "stdout",
          "output_type": "stream",
          "text": [
            "[[[-6.4364952e-01 -1.7254419e+00  1.0808032e+00 ...  5.8686352e-01\n",
            "    5.7147640e-01 -9.0267473e-01]\n",
            "  [-3.3305570e-01 -1.6078819e+00  9.1328192e-01 ... -7.1375579e-01\n",
            "    1.7199039e+00 -6.3036579e-01]\n",
            "  [-5.8058661e-01 -6.9997376e-01  1.3243484e+00 ...  4.4273776e-01\n",
            "   -5.2244312e-01 -2.3011816e+00]\n",
            "  ...\n",
            "  [-6.8090367e-01 -1.0790181e+00 -6.3704360e-01 ... -3.6899993e-01\n",
            "   -9.7457492e-01 -1.4437270e+00]\n",
            "  [ 1.2697263e+00 -1.0271461e+00  4.5026171e-01 ...  2.3314101e-01\n",
            "   -4.5416301e-01 -5.4621959e-01]\n",
            "  [-1.4097834e-01 -3.1023085e-01 -6.5230143e-01 ...  3.8147202e-01\n",
            "   -1.4577290e+00 -6.9204873e-01]]\n",
            "\n",
            " [[ 3.4658790e-01 -1.1432242e+00  9.5442033e-01 ... -9.4865352e-02\n",
            "   -4.7060716e-01 -2.3859386e+00]\n",
            "  [ 4.8964840e-01 -1.1985205e+00  8.2546395e-01 ... -5.3226745e-01\n",
            "   -3.6134529e-01 -2.2594922e+00]\n",
            "  [ 2.1195656e-01 -1.9406472e+00  8.2091987e-02 ... -1.2683886e+00\n",
            "    2.0416902e-01 -1.2567284e+00]\n",
            "  ...\n",
            "  [ 1.2838854e-01 -1.2547132e+00 -9.1287589e-01 ...  5.6080985e-01\n",
            "    5.1255840e-01 -3.9812908e-01]\n",
            "  [-4.3264452e-01 -1.4739393e+00  2.3973823e-01 ...  1.2399943e-01\n",
            "    2.1852725e+00  4.0541627e-02]\n",
            "  [-1.6396981e-01 -6.4304285e-02 -9.6132308e-01 ...  3.0907762e-01\n",
            "   -9.8475111e-01 -4.9170035e-01]]\n",
            "\n",
            " [[ 4.8919812e-01 -1.2433780e+00 -6.4975953e-01 ... -1.3423685e+00\n",
            "   -1.3519503e-01 -1.6070305e+00]\n",
            "  [ 2.0830756e-01 -1.2281599e+00  7.2627074e-01 ... -2.0201966e-01\n",
            "   -4.6285361e-01 -2.3951259e+00]\n",
            "  [ 8.8533753e-01 -2.2406232e+00 -1.7510569e-01 ... -1.6789925e-01\n",
            "    1.0891140e+00 -6.9649893e-01]\n",
            "  ...\n",
            "  [-1.9701883e-01 -1.3792886e+00 -4.1412905e-01 ... -3.3107075e-01\n",
            "    2.4933596e-01 -1.5130514e+00]\n",
            "  [-9.2552465e-01 -3.9886883e-01  3.1031984e-01 ...  7.1278012e-01\n",
            "    6.5597564e-01 -1.3085912e+00]\n",
            "  [ 1.6042972e-01 -3.9529860e-02 -8.5674852e-01 ...  2.2398837e-01\n",
            "   -5.7404876e-01 -5.1443052e-01]]\n",
            "\n",
            " ...\n",
            "\n",
            " [[ 2.5807562e-01 -6.3626355e-01 -2.7587563e-03 ...  7.9116160e-01\n",
            "   -5.4807407e-01 -1.2064937e+00]\n",
            "  [ 1.5221530e+00 -6.5270656e-01 -3.7272155e-01 ...  1.7278974e+00\n",
            "    2.9955924e-01 -8.5629427e-01]\n",
            "  [ 5.7893974e-01 -1.0473907e+00  2.0499367e-01 ...  9.5523721e-01\n",
            "    1.3464311e+00 -5.9204441e-01]\n",
            "  ...\n",
            "  [-4.6019107e-01 -6.0728657e-01 -1.5880838e-02 ...  6.4577538e-01\n",
            "    4.8535076e-01 -1.0908517e+00]\n",
            "  [-2.9073709e-01  9.5744312e-02 -5.3981817e-01 ...  1.7018392e+00\n",
            "   -5.2163541e-01 -8.2996345e-01]\n",
            "  [-2.8453445e-01  1.8983650e-01 -1.2767739e+00 ...  4.2684132e-01\n",
            "   -1.0933217e+00 -2.9367518e-01]]\n",
            "\n",
            " [[ 9.5124394e-01 -1.7000616e-01 -6.6035086e-01 ...  1.2108077e+00\n",
            "   -4.6295309e-01 -5.7567018e-01]\n",
            "  [ 1.8940352e+00 -5.0900531e-01 -6.1219525e-01 ...  1.0397434e+00\n",
            "   -3.6665580e-01 -1.5311913e+00]\n",
            "  [ 4.1309199e-01 -6.9608068e-01 -1.0107810e-01 ...  1.0166996e+00\n",
            "    8.5957873e-01 -8.8481271e-01]\n",
            "  ...\n",
            "  [ 2.0151113e-01 -7.4231438e-02 -9.0059960e-01 ...  1.2132057e+00\n",
            "    2.3223121e+00 -9.7998351e-01]\n",
            "  [ 1.1070821e-01 -4.0729833e-01 -3.7983134e-01 ...  1.2926979e+00\n",
            "    1.1857143e-01 -4.4752586e-01]\n",
            "  [ 9.4563141e-04  1.6312659e-01 -1.1296645e+00 ...  3.4370762e-01\n",
            "   -9.7934306e-01 -4.0017021e-01]]\n",
            "\n",
            " [[ 5.8418411e-01 -1.9821267e+00  7.1589887e-02 ...  2.1685904e-01\n",
            "    7.1184438e-01 -2.6653296e-01]\n",
            "  [ 7.9746358e-03 -1.7595032e+00  1.6068250e-02 ... -1.3988420e-01\n",
            "    9.9629802e-01 -5.6438071e-01]\n",
            "  [ 3.9172336e-02 -2.0918145e+00 -2.3013404e-01 ...  4.4273430e-01\n",
            "    1.1171132e+00 -6.1403382e-01]\n",
            "  ...\n",
            "  [-6.3958406e-01 -9.7772288e-01 -6.1896539e-01 ...  8.6425692e-01\n",
            "    9.0454429e-01 -3.4564652e-02]\n",
            "  [-1.5769683e-02 -9.8211867e-01  1.8178374e-01 ... -6.7275226e-02\n",
            "    1.9986168e+00 -2.2490586e-01]\n",
            "  [-1.7918682e-01 -2.5385642e-01 -6.8978900e-01 ...  2.0996171e-01\n",
            "   -7.3205853e-01 -4.7746059e-01]]]\n"
          ]
        }
      ],
      "source": [
        "import torch\n",
        "import pandas as pd\n",
        "import numpy as np\n",
        "from tape import ProteinBertModel, TAPETokenizer\n",
        "from sklearn.model_selection import train_test_split\n",
        "\n",
        "# Load your CSV file\n",
        "file_path = 'data.csv'  # Replace with the actual file path\n",
        "df = pd.read_csv(file_path)\n",
        "\n",
        "# Assuming 'Sequence' is the column containing protein sequences, and 'Label' is the target column\n",
        "X = df['Sequence']\n",
        "y = df['Label']\n",
        "\n",
        "# Split the data into training and testing sets\n",
        "X_train, X_test, y_train, y_test = train_test_split(X, y, test_size=0.2, random_state=42)\n",
        "\n",
        "# Initialize the model and tokenizer\n",
        "model = ProteinBertModel.from_pretrained('bert-base')\n",
        "tokenizer = TAPETokenizer(vocab='iupac')\n",
        "w = 32  # Adjust the window size as needed\n",
        "X_train_ds = []\n",
        "\n",
        "# Embedding process for training data\n",
        "for i in range(X_train.shape[0]):\n",
        "    # Tokenize the protein sequence\n",
        "    token_id = torch.tensor([tokenizer.encode(X_train.iloc[i])])\n",
        "\n",
        "    # Get word embeddings from the model\n",
        "    output = model(token_id)[0]\n",
        "    word_embeddings = output[0][1:2 * w + 2].detach().numpy()\n",
        "\n",
        "    # Append the word embeddings to the list\n",
        "    X_train_ds.append(word_embeddings)\n",
        "\n",
        "# Stack and reorganize the data\n",
        "X_train_ds = np.dstack(X_train_ds)\n",
        "X_train_ds = np.rollaxis(X_train_ds, -1)\n",
        "\n",
        "# Display the resulting word embeddings for training data\n",
        "print(X_train_ds)\n",
        "\n"
      ]
    },
    {
      "cell_type": "code",
      "execution_count": null,
      "metadata": {
        "id": "S3P5zLr0xN9v"
      },
      "outputs": [],
      "source": []
    },
    {
      "cell_type": "code",
      "execution_count": 11,
      "metadata": {
        "colab": {
          "base_uri": "https://localhost:8080/"
        },
        "id": "LXVa3VEmwUwb",
        "outputId": "600b37e7-ec3b-45a6-aee7-753dad1d6dc3"
      },
      "outputs": [
        {
          "name": "stdout",
          "output_type": "stream",
          "text": [
            "Epoch 1/100\n",
            "94/94 [==============================] - 12s 63ms/step - loss: 0.7429 - accuracy: 0.5760 - val_loss: 0.7073 - val_accuracy: 0.6202\n",
            "Epoch 2/100\n",
            "94/94 [==============================] - 2s 20ms/step - loss: 0.6679 - accuracy: 0.6522 - val_loss: 0.6303 - val_accuracy: 0.6915\n",
            "Epoch 3/100\n",
            "94/94 [==============================] - 2s 21ms/step - loss: 0.6124 - accuracy: 0.6895 - val_loss: 0.5996 - val_accuracy: 0.6474\n",
            "Epoch 4/100\n",
            "94/94 [==============================] - 2s 21ms/step - loss: 0.5664 - accuracy: 0.7227 - val_loss: 0.4871 - val_accuracy: 0.7990\n",
            "Epoch 5/100\n",
            "94/94 [==============================] - 3s 27ms/step - loss: 0.4933 - accuracy: 0.7782 - val_loss: 0.4033 - val_accuracy: 0.8385\n",
            "Epoch 6/100\n",
            "94/94 [==============================] - 3s 30ms/step - loss: 0.4096 - accuracy: 0.8256 - val_loss: 0.3121 - val_accuracy: 0.8774\n",
            "Epoch 7/100\n",
            "94/94 [==============================] - 2s 21ms/step - loss: 0.3374 - accuracy: 0.8585 - val_loss: 0.2511 - val_accuracy: 0.9039\n",
            "Epoch 8/100\n",
            "94/94 [==============================] - 2s 20ms/step - loss: 0.2670 - accuracy: 0.8977 - val_loss: 0.1785 - val_accuracy: 0.9395\n",
            "Epoch 9/100\n",
            "94/94 [==============================] - 2s 22ms/step - loss: 0.1997 - accuracy: 0.9269 - val_loss: 0.1345 - val_accuracy: 0.9576\n",
            "Epoch 10/100\n",
            "94/94 [==============================] - 3s 28ms/step - loss: 0.1504 - accuracy: 0.9492 - val_loss: 0.1184 - val_accuracy: 0.9640\n",
            "Epoch 11/100\n",
            "94/94 [==============================] - 3s 28ms/step - loss: 0.1321 - accuracy: 0.9577 - val_loss: 0.0907 - val_accuracy: 0.9750\n",
            "Epoch 12/100\n",
            "94/94 [==============================] - 2s 26ms/step - loss: 0.1184 - accuracy: 0.9640 - val_loss: 0.2235 - val_accuracy: 0.9188\n",
            "Epoch 13/100\n",
            "94/94 [==============================] - 2s 20ms/step - loss: 0.1089 - accuracy: 0.9663 - val_loss: 0.0684 - val_accuracy: 0.9849\n",
            "Epoch 14/100\n",
            "94/94 [==============================] - 3s 27ms/step - loss: 0.0949 - accuracy: 0.9747 - val_loss: 0.0495 - val_accuracy: 0.9921\n",
            "Epoch 15/100\n",
            "94/94 [==============================] - 3s 28ms/step - loss: 0.0490 - accuracy: 0.9928 - val_loss: 0.0344 - val_accuracy: 0.9987\n",
            "Epoch 16/100\n",
            "94/94 [==============================] - 3s 28ms/step - loss: 0.0389 - accuracy: 0.9973 - val_loss: 0.0300 - val_accuracy: 0.9990\n",
            "Epoch 17/100\n",
            "94/94 [==============================] - 3s 32ms/step - loss: 0.0484 - accuracy: 0.9925 - val_loss: 0.0408 - val_accuracy: 0.9943\n",
            "Epoch 18/100\n",
            "94/94 [==============================] - 2s 21ms/step - loss: 0.0457 - accuracy: 0.9928 - val_loss: 0.0325 - val_accuracy: 0.9978\n",
            "Epoch 19/100\n",
            "94/94 [==============================] - 2s 21ms/step - loss: 0.0585 - accuracy: 0.9879 - val_loss: 0.0393 - val_accuracy: 0.9951\n",
            "Epoch 20/100\n",
            "94/94 [==============================] - 2s 20ms/step - loss: 0.0391 - accuracy: 0.9941 - val_loss: 0.0305 - val_accuracy: 0.9975\n",
            "Epoch 21/100\n",
            "94/94 [==============================] - 2s 20ms/step - loss: 0.0342 - accuracy: 0.9953 - val_loss: 0.0246 - val_accuracy: 0.9997\n",
            "Epoch 22/100\n",
            "94/94 [==============================] - 2s 27ms/step - loss: 0.0389 - accuracy: 0.9953 - val_loss: 0.0260 - val_accuracy: 0.9973\n",
            "Epoch 23/100\n",
            "94/94 [==============================] - 3s 33ms/step - loss: 0.0263 - accuracy: 0.9982 - val_loss: 0.0226 - val_accuracy: 0.9982\n",
            "Epoch 24/100\n",
            "94/94 [==============================] - 2s 21ms/step - loss: 0.0261 - accuracy: 0.9975 - val_loss: 0.0211 - val_accuracy: 0.9990\n",
            "Epoch 25/100\n",
            "94/94 [==============================] - 2s 20ms/step - loss: 0.0251 - accuracy: 0.9983 - val_loss: 0.0193 - val_accuracy: 0.9997\n",
            "Epoch 26/100\n",
            "94/94 [==============================] - 2s 21ms/step - loss: 0.0202 - accuracy: 0.9998 - val_loss: 0.0175 - val_accuracy: 0.9998\n",
            "Epoch 27/100\n",
            "94/94 [==============================] - 2s 21ms/step - loss: 0.0183 - accuracy: 0.9998 - val_loss: 0.0164 - val_accuracy: 1.0000\n",
            "Epoch 28/100\n",
            "94/94 [==============================] - 3s 27ms/step - loss: 0.0174 - accuracy: 1.0000 - val_loss: 0.0155 - val_accuracy: 1.0000\n",
            "Epoch 29/100\n",
            "94/94 [==============================] - 3s 31ms/step - loss: 0.0167 - accuracy: 1.0000 - val_loss: 0.0150 - val_accuracy: 1.0000\n"
          ]
        }
      ],
      "source": [
        "from tensorflow import keras\n",
        "from keras import layers\n",
        "import numpy as np\n",
        "import pandas as pd\n",
        "import os\n",
        "import logging\n",
        "from configparser import ConfigParser\n",
        "\n",
        "logger = logging.getLogger(__name__)\n",
        "\n",
        "def CNNWithBiLSTMModel(X_train, Y_train, X_valid, Y_valid, embedding_input_shape, config_file='CNN_config.ini'):\n",
        "    # Load configuration from the specified INI file\n",
        "    parser = ConfigParser(os.environ)\n",
        "    if not os.path.exists(config_file):\n",
        "        raise IOError(\"Configuration file '%s' does not exist\" % config_file)\n",
        "    logging.info('Loading config from %s', config_file)\n",
        "    parser.read(config_file)\n",
        "    config_header = 'CNN'\n",
        "\n",
        "    logger.info('config header: %s', config_header)\n",
        "\n",
        "    # Retrieve hyperparameters from the configuration file\n",
        "    filters = parser.getint(config_header, 'filters')\n",
        "    kernels = parser.getint(config_header, 'kernels')\n",
        "    dense_layers1 = parser.getint(config_header, 'dense_layers1')\n",
        "    dense_layers2 = parser.getint(config_header, 'dense_layers2')\n",
        "    Learning_Rate = parser.getfloat(config_header, 'Learning_Rate')\n",
        "    dropout = parser.getfloat(config_header, 'dropout')\n",
        "    Batch_size = parser.getint(config_header, 'Batch_size')\n",
        "    Epochs = parser.getint(config_header, 'Epochs')\n",
        "    earlystop = parser.getboolean(config_header, 'earlystop')\n",
        "\n",
        "    # Define the model input shape based on the protein embeddings\n",
        "    inputs = keras.Input(shape=embedding_input_shape, dtype=\"float32\")\n",
        "\n",
        "    # Add Bidirectional LSTM layer\n",
        "    x = layers.Bidirectional(layers.LSTM(64, return_sequences=True))(inputs)\n",
        "\n",
        "    # Add CNN layers\n",
        "    x = layers.Conv1D(filters, kernel_size=kernels, padding='same')(x)\n",
        "    x = layers.BatchNormalization(name=\"conv_1_bn\")(x)\n",
        "    x = layers.ReLU(name=\"conv_1_relu\")(x)\n",
        "    x = layers.Flatten()(x)\n",
        "\n",
        "    # Add Dense layers\n",
        "    x = layers.Dense(dense_layers1, activation='relu')(x)\n",
        "    x = layers.Dense(dense_layers2, kernel_regularizer=keras.regularizers.l2(0.001),\n",
        "                     activity_regularizer=keras.regularizers.l1(0.001))(x)\n",
        "    x = layers.Activation('relu')(x)\n",
        "    x = layers.Dropout(dropout)(x)\n",
        "\n",
        "    # Output layer\n",
        "    outputs = layers.Dense(1, activation='sigmoid')(x)\n",
        "\n",
        "    # Create and compile the model\n",
        "    kmodel = keras.Model(inputs, outputs)\n",
        "    opt = keras.optimizers.Adam(learning_rate=Learning_Rate)\n",
        "    kmodel.compile(loss=\"binary_crossentropy\", metrics=[\"accuracy\"], optimizer=opt)\n",
        "\n",
        "    # Define early stopping callback\n",
        "    callback1 = keras.callbacks.EarlyStopping(monitor='val_accuracy', min_delta=0.0005, patience=8, restore_best_weights=True)\n",
        "\n",
        "    # Train the model\n",
        "    if earlystop:\n",
        "        kmodel.fit(X_train, Y_train, batch_size=Batch_size, epochs=Epochs, validation_data=(X_valid, Y_valid),\n",
        "                   callbacks=[callback1])\n",
        "    else:\n",
        "        kmodel.fit(X_train, Y_train, batch_size=Batch_size, epochs=Epochs, validation_data=(X_valid, Y_valid))\n",
        "\n",
        "    return kmodel\n",
        "\n",
        "# Modify the input shape based on the dimensions of your protein embeddings\n",
        "model_input_shape = X_train_ds.shape[1:]\n",
        "\n",
        "# Call your CNNWithBiLSTMModel function\n",
        "model = CNNWithBiLSTMModel(X_train_ds, y_train, X_train_ds, y_train, embedding_input_shape=model_input_shape)\n",
        "model.save('BertCNNWithBiLSTM.h5')\n"
      ]
    },
    {
      "cell_type": "code",
      "execution_count": 12,
      "metadata": {
        "id": "iqB829on6XcF"
      },
      "outputs": [],
      "source": [
        "from sklearn.metrics import roc_auc_score, accuracy_score\n",
        "\n",
        "# Assuming you already have the trained model 'model' and test data 'X_test_ds'\n",
        "# Initialize the model and tokenizer\n",
        "model = ProteinBertModel.from_pretrained('bert-base')\n",
        "tokenizer = TAPETokenizer(vocab='iupac')\n",
        "w = 32  # Adjust the window size as needed\n",
        "\n",
        "# Tokenize and embed the test data\n",
        "X_test_ds = []\n",
        "for i in range(X_test.shape[0]):\n",
        "    token_id = torch.tensor([tokenizer.encode(X_test.iloc[i])])\n",
        "    output = model(token_id)[0]\n",
        "    word_embeddings = output[0][1:2 * w + 2].detach().numpy()\n",
        "    X_test_ds.append(word_embeddings)\n",
        "\n",
        "# Stack and reorganize the data\n",
        "X_test_ds = np.dstack(X_test_ds)\n",
        "X_test_ds = np.rollaxis(X_test_ds, -1)\n",
        "\n",
        "\n"
      ]
    },
    {
      "cell_type": "code",
      "execution_count": 13,
      "metadata": {
        "colab": {
          "base_uri": "https://localhost:8080/"
        },
        "id": "8Ev55TGi8eGk",
        "outputId": "37ebddc8-d070-49cc-9123-21924d1f32f8"
      },
      "outputs": [
        {
          "name": "stdout",
          "output_type": "stream",
          "text": [
            "47/47 [==============================] - 1s 7ms/step\n",
            "AUC: 0.6911023559776552\n",
            "Accuracy: 0.6487935656836461\n"
          ]
        }
      ],
      "source": [
        "from keras.models import load_model\n",
        "model = load_model('BertCNNWithBiLSTM.h5')\n",
        "# Predict on the test data\n",
        "y_pred = model.predict(X_test_ds)\n",
        "\n",
        "# Convert the probabilities to binary predictions\n",
        "y_pred_binary = (y_pred > 0.5).astype(int)\n",
        "\n",
        "# Calculate AUC\n",
        "auc = roc_auc_score(y_test, y_pred)\n",
        "\n",
        "# Calculate accuracy\n",
        "acc = accuracy_score(y_test, y_pred_binary)\n",
        "\n",
        "# Print the results\n",
        "print(f'AUC: {auc}')\n",
        "print(f'Accuracy: {acc}')"
      ]
    },
    {
      "cell_type": "code",
      "execution_count": 14,
      "metadata": {
        "colab": {
          "base_uri": "https://localhost:8080/",
          "height": 753
        },
        "id": "Wbe7wt0K89gy",
        "outputId": "b6e01d24-5850-46eb-860c-a04955a5d66e"
      },
      "outputs": [
        {
          "data": {
            "image/png": "[encoded data removed]",
            "text/plain": [
              "<Figure size 800x800 with 1 Axes>"
            ]
          },
          "metadata": {},
          "output_type": "display_data"
        },
        {
          "name": "stdout",
          "output_type": "stream",
          "text": [
            "AUC: 0.6911023559776552\n",
            "Accuracy: 0.6487935656836461\n"
          ]
        }
      ],
      "source": [
        "import matplotlib.pyplot as plt\n",
        "from sklearn.metrics import roc_curve, auc\n",
        "\n",
        "# Assuming you already have the true labels 'y_test' and predicted probabilities 'y_pred'\n",
        "fpr, tpr, _ = roc_curve(y_test, y_pred)\n",
        "roc_auc = auc(fpr, tpr)\n",
        "\n",
        "# Plot ROC curve\n",
        "plt.figure(figsize=(8, 8))\n",
        "plt.plot(fpr, tpr, color='darkorange', lw=2, label='ROC curve (AUC = {:.2f})'.format(roc_auc))\n",
        "plt.plot([0, 1], [0, 1], color='navy', lw=2, linestyle='--')\n",
        "plt.xlim([0.0, 1.0])\n",
        "plt.ylim([0.0, 1.05])\n",
        "plt.xlabel('False Positive Rate')\n",
        "plt.ylabel('True Positive Rate')\n",
        "plt.title('Receiver Operating Characteristic (ROC) Curve')\n",
        "plt.legend(loc='lower right')\n",
        "plt.show()\n",
        "\n",
        "# Display AUC and accuracy values\n",
        "print(f'AUC: {roc_auc}')\n",
        "print(f'Accuracy: {acc}')\n"
      ]
    }
  ],
  "metadata": {
    "accelerator": "GPU",
    "colab": {
      "gpuType": "T4",
      "provenance": []
    },
    "kernelspec": {
      "display_name": "Python 3",
      "name": "python3"
    },
    "language_info": {
      "name": "python"
    }
  },
  "nbformat": 4,
  "nbformat_minor": 0
}
